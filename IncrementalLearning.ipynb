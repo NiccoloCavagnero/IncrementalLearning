{
  "nbformat": 4,
  "nbformat_minor": 0,
  "metadata": {
    "colab": {
      "name": "IncrementalLearning.ipynb",
      "provenance": [],
      "collapsed_sections": [],
      "machine_shape": "hm"
    },
    "kernelspec": {
      "name": "python3",
      "display_name": "Python 3"
    },
    "accelerator": "GPU"
  },
  "cells": [
    {
      "cell_type": "markdown",
      "metadata": {
        "id": "o84A91JL0IrC",
        "colab_type": "text"
      },
      "source": [
        "**Install Python libraries**"
      ]
    },
    {
      "cell_type": "code",
      "metadata": {
        "id": "SckfLqae5L_c",
        "colab_type": "code",
        "colab": {}
      },
      "source": [
        "#!pip3 install 'torch==1.4'\n",
        "#!pip3 install 'torchvision==0.5.0'\n",
        "#!pip3 install 'Pillow-SIMD'"
      ],
      "execution_count": null,
      "outputs": []
    },
    {
      "cell_type": "markdown",
      "metadata": {
        "id": "jUuqyGQQ548_",
        "colab_type": "text"
      },
      "source": [
        "**Import Libraries**"
      ]
    },
    {
      "cell_type": "code",
      "metadata": {
        "id": "SHPD3GJb55LO",
        "colab_type": "code",
        "colab": {}
      },
      "source": [
        "import os\n",
        "import numpy as np\n",
        "\n",
        "from torchvision import transforms\n",
        "from torch.utils.data import Subset\n",
        "from torch.backends import cudnn\n",
        "\n",
        "from sklearn.neighbors import KNeighborsClassifier\n",
        "from sklearn.svm import SVC"
      ],
      "execution_count": null,
      "outputs": []
    },
    {
      "cell_type": "markdown",
      "metadata": {
        "id": "33MXoOvr6Cql",
        "colab_type": "text"
      },
      "source": [
        "**Set Arguments**"
      ]
    },
    {
      "cell_type": "code",
      "metadata": {
        "id": "cpM_diSV6CyK",
        "colab_type": "code",
        "colab": {}
      },
      "source": [
        "DEVICE = 'cuda'\n",
        "BATCH_SIZE = 128\n",
        "LR = 2\n",
        "MOMENTUM = 0.9         \n",
        "WEIGHT_DECAY = 1e-4\n",
        "EPOCHS = 70\n",
        "\n",
        "MODE = 3            # 0 - Fine Tuning\n",
        "                    # 1 - LwF\n",
        "                    # 2 - iCaRL\n",
        "                    # 3 - iCaRL2\n",
        "\n",
        "# NB: LwF is iCaRL without exemplars while Fine Tuning is LwF without distillation loss (at implementation level)\n",
        "\n",
        "####### iCaRL only #######\n",
        "MEMORY = 2000        # Total number of exemplars\n",
        "HERDING = True       # Wheter to perform herding or random selection for the exemplar set\n",
        "CLASSIFIER = 'NME'   # Default 'NME', 'FC' for hybrid1, otherwise an sklearn classifier must be passed\n",
        "\n",
        "####### iCaRL2 only #######\n",
        "LR2 = .08      # Learning rate for stabilization phase\n",
        "EPOCHS2 = 10   # Epochs for stabilization phase \n",
        "lambda_ = .2   # Hyper-parameter controlling the weight of the distillation\n",
        "delta = .25    # Value added to lambda at each incremental step\n",
        "\n",
        "# iCaRL2\n",
        "# - Decreasing Weight Decay policy\n",
        "# - Class_Loss on all samples + lambda * Distill_Loss\n",
        "#   - The value of lambda increases at each incremental step\n",
        "#   - The logits for distillation corresponding at the classes learned at \n",
        "#     time t are teached by the network at time t\n",
        "#   - Logits for distillation are raised to 1/2 ( Temperature )\n",
        "# - A stabilization phase with only Class_Loss on the exemplars is executed\n",
        "#   after each incremental step\n",
        "\n"
      ],
      "execution_count": null,
      "outputs": []
    },
    {
      "cell_type": "markdown",
      "metadata": {
        "id": "_cRRzKpw6sxO",
        "colab_type": "text"
      },
      "source": [
        "**Load Dataset**"
      ]
    },
    {
      "cell_type": "code",
      "metadata": {
        "id": "u3ngB4BV6s3Y",
        "colab_type": "code",
        "colab": {
          "base_uri": "https://localhost:8080/",
          "height": 104
        },
        "outputId": "61d1de3c-65a1-4bc0-b37c-09621d193031"
      },
      "source": [
        "if not os.path.isdir('./IncrementalLearning'):\n",
        "  !git clone https://github.com/NiccoloCavagnero/IncrementalLearning\n",
        "\n",
        "DATA_DIR = './IncrementalLearning'\n",
        "from IncrementalLearning.dataset import Cifar100\n",
        "\n",
        "# Load the dataset with custom class\n",
        "train_dataset = Cifar100(DATA_DIR, True, transform=transforms.ToTensor())\n",
        "test_dataset = Cifar100(DATA_DIR, False, transform=transforms.ToTensor())\n",
        "\n",
        "print(f'Train Dataset: {len(train_dataset)}')\n",
        "print(f'Test Dataset: {len(test_dataset)}')"
      ],
      "execution_count": null,
      "outputs": [
        {
          "output_type": "stream",
          "text": [
            "Files already downloaded and verified\n",
            "Files already downloaded and verified\n",
            "Train Dataset: 50000\n",
            "Test Dataset: 10000\n"
          ],
          "name": "stdout"
        }
      ]
    },
    {
      "cell_type": "markdown",
      "metadata": {
        "id": "84mhoigQRLMj",
        "colab_type": "text"
      },
      "source": [
        "**Prepare Incremental Batches**"
      ]
    },
    {
      "cell_type": "code",
      "metadata": {
        "id": "akVBCtt1ROFI",
        "colab_type": "code",
        "colab": {}
      },
      "source": [
        "train_batches, test_batches = [], []\n",
        "\n",
        "for i in range(10):\n",
        "  train_batch_indexes = train_dataset.__getBatchIndexes__(i)\n",
        "  \n",
        "  test_batch_indexes = []\n",
        "  for j in range(i+1):\n",
        "    test_indexes = test_dataset.__getBatchIndexes__(j)\n",
        "    test_batch_indexes += test_indexes\n",
        "\n",
        "  train_batch = Subset(train_dataset,train_batch_indexes)\n",
        "  test_batch = Subset(test_dataset,test_batch_indexes)\n",
        "\n",
        "  train_batches.append(train_batch)\n",
        "  test_batches.append(test_batch)"
      ],
      "execution_count": null,
      "outputs": []
    },
    {
      "cell_type": "markdown",
      "metadata": {
        "id": "5x6V-EIf6riy",
        "colab_type": "text"
      },
      "source": [
        "**Run Model**"
      ]
    },
    {
      "cell_type": "code",
      "metadata": {
        "id": "t5Q3A9bm3Vrl",
        "colab_type": "code",
        "colab": {
          "base_uri": "https://localhost:8080/",
          "height": 1000
        },
        "outputId": "7a30c01a-aaf2-4d9d-f112-ada7c0af66ca"
      },
      "source": [
        "params = {\n",
        "    'EPOCHS': EPOCHS,\n",
        "    'BATCH_SIZE': BATCH_SIZE,\n",
        "    'LR': LR,\n",
        "    'MOMENTUM': MOMENTUM,\n",
        "    'WEIGHT_DECAY': WEIGHT_DECAY,\n",
        "    'LR2': LR2,          # 0.08\n",
        "    'EPOCHS2': EPOCHS2,  # 10 \n",
        "    'lambda': lambda_,   # 0.2\n",
        "    'delta': delta       # 0.25\n",
        "    }\n",
        "\n",
        "cudnn.benchmark\n",
        "\n",
        "from matplotlib import pyplot as plt\n",
        "plt.style.use('seaborn')\n",
        "\n",
        "from IncrementalLearning.resnet_cifar import resnet32\n",
        "net = resnet32(num_classes=10)\n",
        "\n",
        "from IncrementalLearning.iCaRL import iCaRL\n",
        "model = iCaRL(memory=MEMORY,device=DEVICE,params=params,plot=True)\n",
        "\n",
        "from IncrementalLearning.iCaRL2 import iCaRL2\n",
        "model2 = iCaRL2(memory=MEMORY,device=DEVICE,params=params,plot=True)\n",
        "\n",
        "if MODE == 0:\n",
        "  accuracies = model.runLwF(train_batches,test_batches,net,fineTune=True)\n",
        "elif MODE == 1:\n",
        "  accuracies = model.runLwF(train_batches,test_batches,net)\n",
        "elif MODE == 2:\n",
        "  accuracies = model.run(train_batches,test_batches,net,HERDING,CLASSIFIER)\n",
        "elif MODE == 3:\n",
        "  accuracies = model2.run(train_batches,test_batches,net)"
      ],
      "execution_count": null,
      "outputs": [
        {
          "output_type": "stream",
          "text": [
            "/usr/local/lib/python3.6/dist-packages/statsmodels/tools/_testing.py:19: FutureWarning: pandas.util.testing is deprecated. Use the functions in the public API at pandas.testing instead.\n",
            "  import pandas.util.testing as tm\n"
          ],
          "name": "stderr"
        },
        {
          "output_type": "stream",
          "text": [
            "\n",
            "##### BATCH 1 #####\n",
            "\n",
            " ### Update Representation ###\n",
            "   # Epoch: 70/70, LR = 0.08,  Train loss = 0.00764\n",
            "\n",
            "   # Elapsed time: 2.87\n",
            "\n",
            " ### Construct Random Exemplar Set ###\n",
            "   # Exemplars per class: 200\n",
            "\n",
            "   # Elapsed time: 2.88\n",
            "\n",
            " ### FC Layer ###\n",
            "   # FC Layer Predicting \n",
            "   # FC Layer Accuracy: 0.907\n",
            "\n",
            "   # Elapsed time: 2.89\n",
            "\n",
            " ### NME ###\n",
            "   # Computing means \n",
            "   # NME Predicting \n",
            "   # NME Accuracy: 0.902\n",
            "\n",
            "   # Elapsed time: 2.96\n"
          ],
          "name": "stdout"
        },
        {
          "output_type": "display_data",
          "data": {
            "image/png": "[encoded data removed]",
            "text/plain": [
              "<Figure size 576x576 with 1 Axes>"
            ]
          },
          "metadata": {
            "tags": []
          }
        },
        {
          "output_type": "stream",
          "text": [
            "\n",
            " ### Reduce Exemplar Set ###\n",
            "   # Exemplars per class: 200\n",
            "\n",
            "   # Elapsed time: 2.96\n",
            "\n",
            "##### BATCH 2 #####\n",
            "\n",
            " ### Update Representation ###\n",
            "   # Epoch: 70/70, LR = 0.08,  Train loss = 0.01034\n",
            "\n",
            "   # Elapsed time: 7.12\n",
            "\n",
            " ### Construct Random Exemplar Set ###\n",
            "   # Exemplars per class: 200\n",
            "\n",
            "   # Elapsed time: 7.13\n",
            "\n",
            " ### FC Layer ###\n",
            "   # FC Layer Predicting \n",
            "   # FC Layer Accuracy: 0.8335\n",
            "\n",
            "   # Elapsed time: 7.14\n",
            "\n",
            " ### Stabilize Network ###\n",
            "   # Epoch: 10/10, LR = 0.0032,  Train loss = 0.00494\n",
            "\n",
            "   # Elapsed time: 7.45\n",
            "\n",
            " ### FC Layer ###\n",
            "   # FC Layer Predicting \n",
            "   # FC Layer Accuracy: 0.8395\n",
            "\n",
            "   # Elapsed time: 7.46\n",
            "\n",
            " ### NME ###\n",
            "   # Computing means \n",
            "   # NME Predicting \n",
            "   # NME Accuracy: 0.8415\n",
            "\n",
            "   # Elapsed time: 7.6\n"
          ],
          "name": "stdout"
        },
        {
          "output_type": "display_data",
          "data": {
            "image/png": "[encoded data removed]",
            "text/plain": [
              "<Figure size 576x576 with 1 Axes>"
            ]
          },
          "metadata": {
            "tags": []
          }
        },
        {
          "output_type": "stream",
          "text": [
            "\n",
            " ### Reduce Exemplar Set ###\n",
            "   # Exemplars per class: 100\n",
            "\n",
            "   # Elapsed time: 7.61\n",
            "\n",
            "##### BATCH 3 #####\n",
            "\n",
            " ### Update Representation ###\n",
            "   # Epoch: 70/70, LR = 0.08,  Train loss = 0.01248\n",
            "\n",
            "   # Elapsed time: 12.23\n",
            "\n",
            " ### Construct Random Exemplar Set ###\n",
            "   # Exemplars per class: 100\n",
            "\n",
            "   # Elapsed time: 12.24\n",
            "\n",
            " ### FC Layer ###\n",
            "   # FC Layer Predicting \n",
            "   # FC Layer Accuracy: 0.7826666666666666\n",
            "\n",
            "   # Elapsed time: 12.26\n",
            "\n",
            " ### Stabilize Network ###\n",
            "   # Epoch: 10/10, LR = 0.0032,  Train loss = 0.00467\n",
            "\n",
            "   # Elapsed time: 12.49\n",
            "\n",
            " ### FC Layer ###\n",
            "   # FC Layer Predicting \n",
            "   # FC Layer Accuracy: 0.795\n",
            "\n",
            "   # Elapsed time: 12.5\n",
            "\n",
            " ### NME ###\n",
            "   # Computing means \n",
            "   # NME Predicting \n",
            "   # NME Accuracy: 0.7953333333333333\n",
            "\n",
            "   # Elapsed time: 12.74\n"
          ],
          "name": "stdout"
        },
        {
          "output_type": "display_data",
          "data": {
            "image/png": "[encoded data removed]",
            "text/plain": [
              "<Figure size 576x576 with 1 Axes>"
            ]
          },
          "metadata": {
            "tags": []
          }
        },
        {
          "output_type": "stream",
          "text": [
            "\n",
            " ### Reduce Exemplar Set ###\n",
            "   # Exemplars per class: 66\n",
            "\n",
            "   # Elapsed time: 12.75\n",
            "\n",
            "##### BATCH 4 #####\n",
            "\n",
            " ### Update Representation ###\n",
            "   # Epoch: 70/70, LR = 0.08,  Train loss = 0.01541\n",
            "\n",
            "   # Elapsed time: 17.83\n",
            "\n",
            " ### Construct Random Exemplar Set ###\n",
            "   # Exemplars per class: 66\n",
            "\n",
            "   # Elapsed time: 17.84\n",
            "\n",
            " ### FC Layer ###\n",
            "   # FC Layer Predicting \n",
            "   # FC Layer Accuracy: 0.69275\n",
            "\n",
            "   # Elapsed time: 17.85\n",
            "\n",
            " ### Stabilize Network ###\n",
            "   # Epoch: 10/10, LR = 0.0032,  Train loss = 0.00537\n",
            "\n",
            "   # Elapsed time: 18.06\n",
            "\n",
            " ### FC Layer ###\n",
            "   # FC Layer Predicting \n",
            "   # FC Layer Accuracy: 0.713\n",
            "\n",
            "   # Elapsed time: 18.08\n",
            "\n",
            " ### NME ###\n",
            "   # Computing means \n",
            "   # NME Predicting \n",
            "   # NME Accuracy: 0.7195\n",
            "\n",
            "   # Elapsed time: 18.44\n"
          ],
          "name": "stdout"
        },
        {
          "output_type": "display_data",
          "data": {
            "image/png": "[encoded data removed]",
            "text/plain": [
              "<Figure size 576x576 with 1 Axes>"
            ]
          },
          "metadata": {
            "tags": []
          }
        },
        {
          "output_type": "stream",
          "text": [
            "\n",
            " ### Reduce Exemplar Set ###\n",
            "   # Exemplars per class: 50\n",
            "\n",
            "   # Elapsed time: 18.45\n",
            "\n",
            "##### BATCH 5 #####\n",
            "\n",
            " ### Update Representation ###\n",
            "   # Epoch: 70/70, LR = 0.08,  Train loss = 0.01622\n",
            "\n",
            "   # Elapsed time: 23.99\n",
            "\n",
            " ### Construct Random Exemplar Set ###\n",
            "   # Exemplars per class: 50\n",
            "\n",
            "   # Elapsed time: 24.0\n",
            "\n",
            " ### FC Layer ###\n",
            "   # FC Layer Predicting \n",
            "   # FC Layer Accuracy: 0.6794\n",
            "\n",
            "   # Elapsed time: 24.02\n",
            "\n",
            " ### Stabilize Network ###\n",
            "   # Epoch: 10/10, LR = 0.0032,  Train loss = 0.00506\n",
            "\n",
            "   # Elapsed time: 24.22\n",
            "\n",
            " ### FC Layer ###\n",
            "   # FC Layer Predicting \n",
            "   # FC Layer Accuracy: 0.6942\n",
            "\n",
            "   # Elapsed time: 24.24\n",
            "\n",
            " ### NME ###\n",
            "   # Computing means \n",
            "   # NME Predicting \n",
            "   # NME Accuracy: 0.694\n",
            "\n",
            "   # Elapsed time: 24.74\n"
          ],
          "name": "stdout"
        },
        {
          "output_type": "display_data",
          "data": {
            "image/png": "[encoded data removed]",
            "text/plain": [
              "<Figure size 576x576 with 1 Axes>"
            ]
          },
          "metadata": {
            "tags": []
          }
        },
        {
          "output_type": "stream",
          "text": [
            "\n",
            " ### Reduce Exemplar Set ###\n",
            "   # Exemplars per class: 40\n",
            "\n",
            "   # Elapsed time: 24.75\n",
            "\n",
            "##### BATCH 6 #####\n",
            "\n",
            " ### Update Representation ###\n",
            "   # Epoch: 70/70, LR = 0.08,  Train loss = 0.01793\n",
            "\n",
            "   # Elapsed time: 30.75\n",
            "\n",
            " ### Construct Random Exemplar Set ###\n",
            "   # Exemplars per class: 40\n",
            "\n",
            "   # Elapsed time: 30.76\n",
            "\n",
            " ### FC Layer ###\n",
            "   # FC Layer Predicting \n",
            "   # FC Layer Accuracy: 0.617\n",
            "\n",
            "   # Elapsed time: 30.78\n",
            "\n",
            " ### Stabilize Network ###\n",
            "   # Epoch: 10/10, LR = 0.0032,  Train loss = 0.00519\n",
            "\n",
            "   # Elapsed time: 30.97\n",
            "\n",
            " ### FC Layer ###\n",
            "   # FC Layer Predicting \n",
            "   # FC Layer Accuracy: 0.6396666666666667\n",
            "\n",
            "   # Elapsed time: 30.99\n",
            "\n",
            " ### NME ###\n",
            "   # Computing means \n",
            "   # NME Predicting \n",
            "   # NME Accuracy: 0.6446666666666667\n",
            "\n",
            "   # Elapsed time: 31.68\n"
          ],
          "name": "stdout"
        },
        {
          "output_type": "display_data",
          "data": {
            "image/png": "[encoded data removed]",
            "text/plain": [
              "<Figure size 576x576 with 1 Axes>"
            ]
          },
          "metadata": {
            "tags": []
          }
        },
        {
          "output_type": "stream",
          "text": [
            "\n",
            " ### Reduce Exemplar Set ###\n",
            "   # Exemplars per class: 33\n",
            "\n",
            "   # Elapsed time: 31.69\n",
            "\n",
            "##### BATCH 7 #####\n",
            "\n",
            " ### Update Representation ###\n",
            "   # Epoch: 70/70, LR = 0.08,  Train loss = 0.01947\n",
            "\n",
            "   # Elapsed time: 38.13\n",
            "\n",
            " ### Construct Random Exemplar Set ###\n",
            "   # Exemplars per class: 33\n",
            "\n",
            "   # Elapsed time: 38.14\n",
            "\n",
            " ### FC Layer ###\n",
            "   # FC Layer Predicting \n",
            "   # FC Layer Accuracy: 0.5522857142857143\n",
            "\n",
            "   # Elapsed time: 38.16\n",
            "\n",
            " ### Stabilize Network ###\n",
            "   # Epoch: 10/10, LR = 0.0032,  Train loss = 0.00562\n",
            "\n",
            "   # Elapsed time: 38.35\n",
            "\n",
            " ### FC Layer ###\n",
            "   # FC Layer Predicting \n",
            "   # FC Layer Accuracy: 0.5791428571428572\n",
            "\n",
            "   # Elapsed time: 38.37\n",
            "\n",
            " ### NME ###\n",
            "   # Computing means \n",
            "   # NME Predicting \n",
            "   # NME Accuracy: 0.5917142857142857\n",
            "\n",
            "   # Elapsed time: 39.25\n"
          ],
          "name": "stdout"
        },
        {
          "output_type": "display_data",
          "data": {
            "image/png": "[encoded data removed]",
            "text/plain": [
              "<Figure size 576x576 with 1 Axes>"
            ]
          },
          "metadata": {
            "tags": []
          }
        },
        {
          "output_type": "stream",
          "text": [
            "\n",
            " ### Reduce Exemplar Set ###\n",
            "   # Exemplars per class: 28\n",
            "\n",
            "   # Elapsed time: 39.26\n",
            "\n",
            "##### BATCH 8 #####\n",
            "\n",
            " ### Update Representation ###\n",
            "   # Epoch: 25/70, LR = 2,  Train loss = 0.02602"
          ],
          "name": "stdout"
        }
      ]
    },
    {
      "cell_type": "markdown",
      "metadata": {
        "id": "tYbPGRER-MOQ",
        "colab_type": "text"
      },
      "source": [
        "**Results**"
      ]
    },
    {
      "cell_type": "code",
      "metadata": {
        "id": "DVCXGfmr4PUC",
        "colab_type": "code",
        "colab": {}
      },
      "source": [
        "import numpy as np \n",
        "print(\"### Accuracies per batch: ###\")\n",
        "print([round(accuracy,3) for accuracy in accuracies])\n",
        "print(\"\\n### Average accuracy: ###\")\n",
        "print(np.mean(accuracies))"
      ],
      "execution_count": null,
      "outputs": []
    }
  ]
}